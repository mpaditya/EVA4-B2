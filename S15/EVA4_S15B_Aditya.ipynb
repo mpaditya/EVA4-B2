{
  "nbformat": 4,
  "nbformat_minor": 0,
  "metadata": {
    "colab": {
      "name": "EVA4_S15B_Aditya.ipynb",
      "provenance": [],
      "collapsed_sections": [],
      "machine_shape": "hm"
    },
    "kernelspec": {
      "name": "python3",
      "display_name": "Python 3"
    },
    "accelerator": "GPU"
  },
  "cells": [
    {
      "cell_type": "code",
      "metadata": {
        "id": "zv4CaXlLoKhm",
        "colab_type": "code",
        "colab": {}
      },
      "source": [
        "# ! pip install kornia"
      ],
      "execution_count": null,
      "outputs": []
    },
    {
      "cell_type": "code",
      "metadata": {
        "id": "2rsdrEfs-Ege",
        "colab_type": "code",
        "colab": {}
      },
      "source": [
        "# ! pip install torch==1.5.0+cu101 torchvision==0.6.0+cu101 -f https://download.pytorch.org/whl/torch_stable.html"
      ],
      "execution_count": null,
      "outputs": []
    },
    {
      "cell_type": "code",
      "metadata": {
        "id": "4HzloMQgeD_h",
        "colab_type": "code",
        "colab": {}
      },
      "source": [
        "# ! pip install pytorch-ignite"
      ],
      "execution_count": null,
      "outputs": []
    },
    {
      "cell_type": "code",
      "metadata": {
        "id": "cVVMXhWr_vdD",
        "colab_type": "code",
        "colab": {
          "base_uri": "https://localhost:8080/",
          "height": 67
        },
        "outputId": "9ff42932-fd67-417c-d36e-afc8eb6f97f0"
      },
      "source": [
        "import torch\n",
        "print(torch.__version__)\n",
        "import torchvision\n",
        "print(torchvision.__version__)\n",
        "import kornia\n",
        "print(kornia.__version__)"
      ],
      "execution_count": null,
      "outputs": [
        {
          "output_type": "stream",
          "text": [
            "1.5.0+cu101\n",
            "0.6.0+cu101\n",
            "0.4.0\n"
          ],
          "name": "stdout"
        }
      ]
    },
    {
      "cell_type": "code",
      "metadata": {
        "id": "PJXSQt2C6ByW",
        "colab_type": "code",
        "colab": {}
      },
      "source": [
        "import warnings\n",
        "warnings.filterwarnings(\"ignore\")"
      ],
      "execution_count": null,
      "outputs": []
    },
    {
      "cell_type": "code",
      "metadata": {
        "id": "jTnAhpYRNoXF",
        "colab_type": "code",
        "colab": {
          "base_uri": "https://localhost:8080/",
          "height": 34
        },
        "outputId": "cb808611-6f10-4c45-d6d5-8896e51d62a8"
      },
      "source": [
        "from google.colab import drive\n",
        "drive.mount('/content/gdrive',force_remount=True)\n",
        "%reload_ext autoreload\n",
        "%autoreload 2"
      ],
      "execution_count": null,
      "outputs": [
        {
          "output_type": "stream",
          "text": [
            "Mounted at /content/gdrive\n"
          ],
          "name": "stdout"
        }
      ]
    },
    {
      "cell_type": "code",
      "metadata": {
        "id": "eF_jKR1AkCsY",
        "colab_type": "code",
        "colab": {
          "base_uri": "https://localhost:8080/",
          "height": 35
        },
        "outputId": "5da07c72-fb7b-485d-e153-301a57e51430"
      },
      "source": [
        "import os\n",
        "\n",
        "# os.mkdir(\"/content/dataset\")\n",
        "# os.mkdir(\"/content/models\")\n",
        "# os.mkdir(\"/content/plots\")\n",
        "os.chdir(\"/content/gdrive/My Drive/S15/\")\n",
        "os.getcwd()"
      ],
      "execution_count": null,
      "outputs": [
        {
          "output_type": "execute_result",
          "data": {
            "application/vnd.google.colaboratory.intrinsic+json": {
              "type": "string"
            },
            "text/plain": [
              "'/content/gdrive/My Drive/S15'"
            ]
          },
          "metadata": {
            "tags": []
          },
          "execution_count": 4
        }
      ]
    },
    {
      "cell_type": "code",
      "metadata": {
        "id": "YD7llek_FS9Q",
        "colab_type": "code",
        "colab": {}
      },
      "source": [
        "# !ls"
      ],
      "execution_count": null,
      "outputs": []
    },
    {
      "cell_type": "code",
      "metadata": {
        "id": "sCNiK4iXkJM6",
        "colab_type": "code",
        "colab": {}
      },
      "source": [
        "# import zipfile\n",
        "\n",
        "# files_to_extract = [\"bg_192.zip\", \"fg_bg_7z.zip\", \"fg_bg_depth_full.zip\", \"mask.zip\"]\n",
        "# for fp in files_to_extract:\n",
        "#   path_to_zip_file = f\"/content/gdrive/My Drive/EVA4_S15_Data/{fp}\"\n",
        "#   directory_to_extract_to = '/content/dataset/'\n",
        "#   print(\"Extracting zip file: %s\" % path_to_zip_file)\n",
        "#   with zipfile.ZipFile(path_to_zip_file, 'r') as zip_ref:\n",
        "#     zip_ref.extractall(directory_to_extract_to)\n",
        "#   print(\"Extracted at: %s\" % directory_to_extract_to)"
      ],
      "execution_count": null,
      "outputs": []
    },
    {
      "cell_type": "code",
      "metadata": {
        "id": "VQrq607FkgtV",
        "colab_type": "code",
        "colab": {
          "base_uri": "https://localhost:8080/",
          "height": 34
        },
        "outputId": "d0a8d0e2-70d9-483a-c4ed-fe2366340c63"
      },
      "source": [
        "!nvidia-smi -L"
      ],
      "execution_count": null,
      "outputs": [
        {
          "output_type": "stream",
          "text": [
            "GPU 0: Tesla P100-PCIE-16GB (UUID: GPU-7ac3d541-a9a7-41f4-3201-12503ac09b2a)\n"
          ],
          "name": "stdout"
        }
      ]
    },
    {
      "cell_type": "code",
      "metadata": {
        "id": "gOtZOTwR0jf2",
        "colab_type": "code",
        "colab": {}
      },
      "source": [
        "#  !pip install kornia"
      ],
      "execution_count": null,
      "outputs": []
    },
    {
      "cell_type": "code",
      "metadata": {
        "id": "foFIUZLM6UfS",
        "colab_type": "code",
        "colab": {}
      },
      "source": [
        "# !pip install torchvision"
      ],
      "execution_count": null,
      "outputs": []
    },
    {
      "cell_type": "code",
      "metadata": {
        "id": "t-OtTil7m6Y9",
        "colab_type": "code",
        "colab": {}
      },
      "source": [
        "import torch\n",
        "import torchvision\n",
        "import torch.nn as nn\n",
        "import torch.optim as optim\n",
        "from torch.optim.lr_scheduler import StepLR\n",
        "from pathlib import Path\n",
        "import os\n",
        "import glob\n",
        "from PIL import Image\n",
        "import torch.nn.functional as F"
      ],
      "execution_count": null,
      "outputs": []
    },
    {
      "cell_type": "code",
      "metadata": {
        "id": "oAcVen-EFLWi",
        "colab_type": "code",
        "colab": {
          "base_uri": "https://localhost:8080/",
          "height": 34
        },
        "outputId": "dd3c4d51-2cbf-4185-870c-310b5f9ac2cc"
      },
      "source": [
        "import data_preprocess_Albumentation_module_s15 as alb\n",
        "from dataset_module import DataSet\n",
        "import model_1\n",
        "from train_module_1 import train\n",
        "from test_module_1 import test "
      ],
      "execution_count": null,
      "outputs": [
        {
          "output_type": "stream",
          "text": [
            "CUDA Available? True\n"
          ],
          "name": "stdout"
        }
      ]
    },
    {
      "cell_type": "code",
      "metadata": {
        "id": "BHcl_hliFgxw",
        "colab_type": "code",
        "colab": {
          "base_uri": "https://localhost:8080/",
          "height": 34
        },
        "outputId": "adc6c38c-c66e-4e09-b524-5504953c1d13"
      },
      "source": [
        "data_root = '/content/dataset/'\n",
        "\n",
        "dataset = DataSet(data_root)\n",
        "print(len(dataset))"
      ],
      "execution_count": null,
      "outputs": [
        {
          "output_type": "stream",
          "text": [
            "400000\n"
          ],
          "name": "stdout"
        }
      ]
    },
    {
      "cell_type": "markdown",
      "metadata": {
        "id": "oh9DgDdVBBcJ",
        "colab_type": "text"
      },
      "source": [
        "Train Test Split"
      ]
    },
    {
      "cell_type": "code",
      "metadata": {
        "id": "KwTm9zAUA_Im",
        "colab_type": "code",
        "colab": {
          "base_uri": "https://localhost:8080/",
          "height": 67
        },
        "outputId": "237a56d6-4661-4878-e51b-2c42d5d1a4c2"
      },
      "source": [
        "train_size = int(0.7 * len(dataset))\n",
        "test_size = len(dataset) - train_size\n",
        "train_dataset, test_dataset = torch.utils.data.random_split(dataset, [train_size, test_size])\n",
        "print(len(train_dataset)), print(len(test_dataset))"
      ],
      "execution_count": null,
      "outputs": [
        {
          "output_type": "stream",
          "text": [
            "280000\n",
            "120000\n"
          ],
          "name": "stdout"
        },
        {
          "output_type": "execute_result",
          "data": {
            "text/plain": [
              "(None, None)"
            ]
          },
          "metadata": {
            "tags": []
          },
          "execution_count": 13
        }
      ]
    },
    {
      "cell_type": "code",
      "metadata": {
        "id": "hzvccWvIBLV-",
        "colab_type": "code",
        "colab": {}
      },
      "source": [
        "train_dataloader, test_dataloader = alb.get_train_test_loader(train_dataset, test_dataset)"
      ],
      "execution_count": null,
      "outputs": []
    },
    {
      "cell_type": "code",
      "metadata": {
        "id": "tNYMKqn0DJUL",
        "colab_type": "code",
        "colab": {
          "base_uri": "https://localhost:8080/",
          "height": 50
        },
        "outputId": "dbdcfb80-e860-4616-8c6d-2b43bffaca43"
      },
      "source": [
        "batch_size=32\n",
        "print(f'Train dataset has {len(train_dataloader)} batches of size {batch_size}')\n",
        "print(f'Test dataset has {len(test_dataloader)} batches of size {batch_size}')"
      ],
      "execution_count": null,
      "outputs": [
        {
          "output_type": "stream",
          "text": [
            "Train dataset has 2188 batches of size 32\n",
            "Test dataset has 938 batches of size 32\n"
          ],
          "name": "stdout"
        }
      ]
    },
    {
      "cell_type": "markdown",
      "metadata": {
        "id": "n4uf5PlKa4Ib",
        "colab_type": "text"
      },
      "source": [
        "### Using GPU instead of CPU"
      ]
    },
    {
      "cell_type": "code",
      "metadata": {
        "id": "qdxD93f2a2cQ",
        "colab_type": "code",
        "colab": {
          "base_uri": "https://localhost:8080/",
          "height": 34
        },
        "outputId": "060dd7c6-ec29-43d5-a861-77941ee469a0"
      },
      "source": [
        "SEED = 1\n",
        "\n",
        "# CUDA?\n",
        "cuda = torch.cuda.is_available()\n",
        "print(\"CUDA Available?\", cuda)\n",
        "\n",
        "# For reproducibility\n",
        "torch.manual_seed(SEED)\n",
        "\n",
        "if cuda:\n",
        "    torch.cuda.manual_seed(SEED)\n",
        "\n",
        "CUDA_LAUNCH_BLOCKING=1"
      ],
      "execution_count": null,
      "outputs": [
        {
          "output_type": "stream",
          "text": [
            "CUDA Available? True\n"
          ],
          "name": "stdout"
        }
      ]
    },
    {
      "cell_type": "markdown",
      "metadata": {
        "id": "fvnPiXsW5FxF",
        "colab_type": "text"
      },
      "source": [
        "## Model\n",
        "\n",
        "Create model and display model summary"
      ]
    },
    {
      "cell_type": "code",
      "metadata": {
        "id": "fhqr7Z9eFAmv",
        "colab_type": "code",
        "colab": {
          "base_uri": "https://localhost:8080/",
          "height": 1000
        },
        "outputId": "a05b727e-4b80-402a-e16c-3c31552defe1"
      },
      "source": [
        "import torch\n",
        "use_cuda = torch.cuda.is_available()\n",
        "device = torch.device(\"cuda\" if use_cuda else \"cpu\")\n",
        "net = model_1.DNN()\n",
        "model = net.to(device)\n",
        "from torchsummary import summary\n",
        "summary(model, (6, 64, 64))\n",
        "# print (model)"
      ],
      "execution_count": null,
      "outputs": [
        {
          "output_type": "stream",
          "text": [
            "----------------------------------------------------------------\n",
            "        Layer (type)               Output Shape         Param #\n",
            "================================================================\n",
            "            Conv2d-1           [-1, 32, 64, 64]             864\n",
            "       BatchNorm2d-2           [-1, 32, 64, 64]              64\n",
            "            Conv2d-3           [-1, 32, 64, 64]           9,216\n",
            "       BatchNorm2d-4           [-1, 32, 64, 64]              64\n",
            "            Conv2d-5           [-1, 32, 64, 64]           9,216\n",
            "       BatchNorm2d-6           [-1, 32, 64, 64]              64\n",
            "        BasicBlock-7           [-1, 32, 64, 64]               0\n",
            "            Conv2d-8           [-1, 32, 64, 64]           9,216\n",
            "       BatchNorm2d-9           [-1, 32, 64, 64]              64\n",
            "           Conv2d-10           [-1, 32, 64, 64]           9,216\n",
            "      BatchNorm2d-11           [-1, 32, 64, 64]              64\n",
            "       BasicBlock-12           [-1, 32, 64, 64]               0\n",
            "           Conv2d-13           [-1, 32, 64, 64]             864\n",
            "      BatchNorm2d-14           [-1, 32, 64, 64]              64\n",
            "           Conv2d-15           [-1, 32, 64, 64]           9,216\n",
            "      BatchNorm2d-16           [-1, 32, 64, 64]              64\n",
            "           Conv2d-17           [-1, 32, 64, 64]           9,216\n",
            "      BatchNorm2d-18           [-1, 32, 64, 64]              64\n",
            "       BasicBlock-19           [-1, 32, 64, 64]               0\n",
            "           Conv2d-20           [-1, 32, 64, 64]           9,216\n",
            "      BatchNorm2d-21           [-1, 32, 64, 64]              64\n",
            "           Conv2d-22           [-1, 32, 64, 64]           9,216\n",
            "      BatchNorm2d-23           [-1, 32, 64, 64]              64\n",
            "       BasicBlock-24           [-1, 32, 64, 64]               0\n",
            "           Conv2d-25          [-1, 128, 32, 32]          73,728\n",
            "      BatchNorm2d-26          [-1, 128, 32, 32]             256\n",
            "           Conv2d-27          [-1, 128, 32, 32]         147,456\n",
            "      BatchNorm2d-28          [-1, 128, 32, 32]             256\n",
            "           Conv2d-29          [-1, 128, 32, 32]           8,192\n",
            "      BatchNorm2d-30          [-1, 128, 32, 32]             256\n",
            "       BasicBlock-31          [-1, 128, 32, 32]               0\n",
            "           Conv2d-32          [-1, 128, 32, 32]         147,456\n",
            "      BatchNorm2d-33          [-1, 128, 32, 32]             256\n",
            "           Conv2d-34          [-1, 128, 32, 32]         147,456\n",
            "      BatchNorm2d-35          [-1, 128, 32, 32]             256\n",
            "       BasicBlock-36          [-1, 128, 32, 32]               0\n",
            "           Conv2d-37          [-1, 256, 16, 16]         294,912\n",
            "      BatchNorm2d-38          [-1, 256, 16, 16]             512\n",
            "           Conv2d-39          [-1, 256, 16, 16]         589,824\n",
            "      BatchNorm2d-40          [-1, 256, 16, 16]             512\n",
            "           Conv2d-41          [-1, 256, 16, 16]          32,768\n",
            "      BatchNorm2d-42          [-1, 256, 16, 16]             512\n",
            "       BasicBlock-43          [-1, 256, 16, 16]               0\n",
            "           Conv2d-44          [-1, 256, 16, 16]         589,824\n",
            "      BatchNorm2d-45          [-1, 256, 16, 16]             512\n",
            "           Conv2d-46          [-1, 256, 16, 16]         589,824\n",
            "      BatchNorm2d-47          [-1, 256, 16, 16]             512\n",
            "       BasicBlock-48          [-1, 256, 16, 16]               0\n",
            "          Encoder-49  [[-1, 256, 16, 16], [-1, 128, 32, 32], [-1, 64, 64, 64]]               0\n",
            "           Conv2d-50           [-1, 64, 16, 16]          16,448\n",
            "  ConvTranspose2d-51           [-1, 64, 32, 32]          16,448\n",
            "           Conv2d-52           [-1, 32, 32, 32]          55,328\n",
            "        LeakyReLU-53           [-1, 32, 32, 32]               0\n",
            "           Conv2d-54           [-1, 32, 32, 32]           9,248\n",
            "        LeakyReLU-55           [-1, 32, 32, 32]               0\n",
            "  ConvTranspose2d-56           [-1, 32, 64, 64]           4,128\n",
            "           Conv2d-57           [-1, 16, 64, 64]          13,840\n",
            "        LeakyReLU-58           [-1, 16, 64, 64]               0\n",
            "           Conv2d-59           [-1, 16, 64, 64]           2,320\n",
            "        LeakyReLU-60           [-1, 16, 64, 64]               0\n",
            "           Conv2d-61            [-1, 1, 64, 64]             145\n",
            "          Decoder-62            [-1, 1, 64, 64]               0\n",
            "           Conv2d-63          [-1, 128, 16, 16]          32,896\n",
            "  ConvTranspose2d-64          [-1, 128, 32, 32]          65,664\n",
            "           Conv2d-65           [-1, 64, 32, 32]         147,520\n",
            "        LeakyReLU-66           [-1, 64, 32, 32]               0\n",
            "           Conv2d-67           [-1, 64, 32, 32]          36,928\n",
            "        LeakyReLU-68           [-1, 64, 32, 32]               0\n",
            "  ConvTranspose2d-69           [-1, 64, 64, 64]          16,448\n",
            "           Conv2d-70           [-1, 32, 64, 64]          36,896\n",
            "        LeakyReLU-71           [-1, 32, 64, 64]               0\n",
            "           Conv2d-72           [-1, 32, 64, 64]           9,248\n",
            "        LeakyReLU-73           [-1, 32, 64, 64]               0\n",
            "           Conv2d-74            [-1, 1, 64, 64]             289\n",
            "          Decoder-75            [-1, 1, 64, 64]               0\n",
            "================================================================\n",
            "Total params: 3,165,170\n",
            "Trainable params: 3,165,170\n",
            "Non-trainable params: 0\n",
            "----------------------------------------------------------------\n",
            "Input size (MB): 0.09\n",
            "Forward/backward pass size (MB): 17179869240.00\n",
            "Params size (MB): 12.07\n",
            "Estimated Total Size (MB): 17179869252.17\n",
            "----------------------------------------------------------------\n"
          ],
          "name": "stdout"
        }
      ]
    },
    {
      "cell_type": "code",
      "metadata": {
        "id": "HoUYqG-H-JAS",
        "colab_type": "code",
        "colab": {}
      },
      "source": [
        "# model_path = \"/content/gdrive/My Drive/S15/e013.pth\"\n",
        "# model.load_state_dict(torch.load(model_path))"
      ],
      "execution_count": null,
      "outputs": []
    },
    {
      "cell_type": "markdown",
      "metadata": {
        "id": "iDt7JJ8UOaoF",
        "colab_type": "text"
      },
      "source": [
        "## Training and Testing\n",
        "\n",
        "Train the model and evaluate it"
      ]
    },
    {
      "cell_type": "code",
      "metadata": {
        "id": "hpFupsuKNOqY",
        "colab_type": "code",
        "colab": {
          "base_uri": "https://localhost:8080/",
          "height": 1000
        },
        "outputId": "6d03ef42-2a29-48bb-dbfb-3f7fc8c837b7"
      },
      "source": [
        "import datetime\n",
        "from tqdm import tqdm\n",
        "from torch.optim.lr_scheduler import StepLR, OneCycleLR \n",
        "from torch.optim.lr_scheduler import ReduceLROnPlateau\n",
        "from torch.optim import Adam, SGD\n",
        "\n",
        "epochs = 0\n",
        "optimizer = Adam(model.parameters(), 0.001)\n",
        "# optimizer = SGD(model.parameters(), lr = 0.01, momentum=0.9, weight_decay=1e-5)\n",
        "scheduler = StepLR(optimizer, step_size=2, gamma=0.3)\n",
        "# scheduler = ReduceLROnPlateau(optimizer, mode='min', min_lr=1e-6, patience = 2)\n",
        "\n",
        "test_losses, train_losses = [], []\n",
        "lr_trend = []\n",
        "def run(l1_decay=0.0, l2_decay=0.0):\n",
        "  for epoch in range(epochs, epochs+20):\n",
        "    # st = datetime.datetime.now()\n",
        "    lr_trend.append(optimizer.param_groups[0]['lr'])\n",
        "    print(f\"EPOCH: {epoch+1} (LR: {lr_trend[-1]:0.6f})\")\n",
        "    train(model, device, train_dataloader, optimizer, epoch,\n",
        "          l1_decay,l2_decay, train_losses)\n",
        "    # et_train = datetime.datetime.now()\n",
        "    # delta_train = et_train-st\n",
        "    # scheduler.step()\n",
        "    # st_test = datetime.datetime.now()\n",
        "    test(model, device, test_dataloader, test_losses, epoch, save_img=True)\n",
        "    # et = datetime.datetime.now()\n",
        "    # delta = et-st\n",
        "    # delta_test = et-st_test\n",
        "    # print(f\"EPOCH: {epoch+1} processing time: {delta} [Train: {delta_train}] [Test: {delta_test}]\")\n",
        "    # if (epoch+1)%3 == 0:\n",
        "    torch.save(model.state_dict(), f\"/content/gdrive/My Drive/S15/e{epoch+1:03d}.pth\")\n",
        "\n",
        "\n",
        "# train and test the model\n",
        "run(l1_decay=0, l2_decay=0)"
      ],
      "execution_count": 20,
      "outputs": [
        {
          "output_type": "stream",
          "text": [
            "\r  0%|          | 0/2188 [00:00<?, ?it/s]"
          ],
          "name": "stderr"
        },
        {
          "output_type": "stream",
          "text": [
            "EPOCH: 1 (LR: 0.001000)\n"
          ],
          "name": "stdout"
        },
        {
          "output_type": "stream",
          "text": [
            "Loss=0.15566 LossMask=0.02384 LossDepth=0.131814 Batch_id=2187: 100%|██████████| 2188/2188 [12:18<00:00,  2.96it/s]\n",
            "Clipping input data to the valid range for imshow with RGB data ([0..1] for floats or [0..255] for integers).\n",
            "Clipping input data to the valid range for imshow with RGB data ([0..1] for floats or [0..255] for integers).\n",
            "  0%|          | 0/2188 [00:00<?, ?it/s]"
          ],
          "name": "stderr"
        },
        {
          "output_type": "stream",
          "text": [
            "\n",
            " Test set: Average loss: 0.1786, Average MaskLoss: 0.0387, Average DepthLoss: 0.1399\n",
            "\n",
            "Metric:     t<1.25,   t<1.25^2,   t<1.25^3,        rms\n",
            "Depth :     0.7127,     0.9081,     0.9698,     0.0993  \n",
            "\n",
            "Metric:        IoU\n",
            "Mask  :     0.7836\n",
            "EPOCH: 2 (LR: 0.001000)\n"
          ],
          "name": "stdout"
        },
        {
          "output_type": "stream",
          "text": [
            "Loss=0.14158 LossMask=0.02388 LossDepth=0.117708 Batch_id=2187: 100%|██████████| 2188/2188 [12:18<00:00,  2.96it/s]\n",
            "Clipping input data to the valid range for imshow with RGB data ([0..1] for floats or [0..255] for integers).\n",
            "Clipping input data to the valid range for imshow with RGB data ([0..1] for floats or [0..255] for integers).\n",
            "Clipping input data to the valid range for imshow with RGB data ([0..1] for floats or [0..255] for integers).\n",
            "Clipping input data to the valid range for imshow with RGB data ([0..1] for floats or [0..255] for integers).\n",
            "  0%|          | 0/2188 [00:00<?, ?it/s]"
          ],
          "name": "stderr"
        },
        {
          "output_type": "stream",
          "text": [
            "\n",
            " Test set: Average loss: 0.1520, Average MaskLoss: 0.0241, Average DepthLoss: 0.1279\n",
            "\n",
            "Metric:     t<1.25,   t<1.25^2,   t<1.25^3,        rms\n",
            "Depth :     0.7457,     0.9195,     0.9734,     0.0906  \n",
            "\n",
            "Metric:        IoU\n",
            "Mask  :     0.7935\n",
            "EPOCH: 3 (LR: 0.001000)\n"
          ],
          "name": "stdout"
        },
        {
          "output_type": "stream",
          "text": [
            "Loss=0.15976 LossMask=0.02263 LossDepth=0.137124 Batch_id=2187: 100%|██████████| 2188/2188 [12:20<00:00,  2.95it/s]\n",
            "Clipping input data to the valid range for imshow with RGB data ([0..1] for floats or [0..255] for integers).\n",
            "Clipping input data to the valid range for imshow with RGB data ([0..1] for floats or [0..255] for integers).\n",
            "Clipping input data to the valid range for imshow with RGB data ([0..1] for floats or [0..255] for integers).\n",
            "Clipping input data to the valid range for imshow with RGB data ([0..1] for floats or [0..255] for integers).\n",
            "  0%|          | 0/2188 [00:00<?, ?it/s]"
          ],
          "name": "stderr"
        },
        {
          "output_type": "stream",
          "text": [
            "\n",
            " Test set: Average loss: 0.1470, Average MaskLoss: 0.0235, Average DepthLoss: 0.1235\n",
            "\n",
            "Metric:     t<1.25,   t<1.25^2,   t<1.25^3,        rms\n",
            "Depth :     0.7585,     0.9261,     0.9757,     0.0893  \n",
            "\n",
            "Metric:        IoU\n",
            "Mask  :     0.7742\n",
            "EPOCH: 4 (LR: 0.001000)\n"
          ],
          "name": "stdout"
        },
        {
          "output_type": "stream",
          "text": [
            "Loss=0.13182 LossMask=0.02205 LossDepth=0.109768 Batch_id=2187: 100%|██████████| 2188/2188 [12:20<00:00,  2.96it/s]\n",
            "Clipping input data to the valid range for imshow with RGB data ([0..1] for floats or [0..255] for integers).\n",
            "Clipping input data to the valid range for imshow with RGB data ([0..1] for floats or [0..255] for integers).\n",
            "Clipping input data to the valid range for imshow with RGB data ([0..1] for floats or [0..255] for integers).\n",
            "Clipping input data to the valid range for imshow with RGB data ([0..1] for floats or [0..255] for integers).\n",
            "  0%|          | 0/2188 [00:00<?, ?it/s]"
          ],
          "name": "stderr"
        },
        {
          "output_type": "stream",
          "text": [
            "\n",
            " Test set: Average loss: 0.1390, Average MaskLoss: 0.0197, Average DepthLoss: 0.1193\n",
            "\n",
            "Metric:     t<1.25,   t<1.25^2,   t<1.25^3,        rms\n",
            "Depth :     0.7666,     0.9297,     0.9770,     0.0868  \n",
            "\n",
            "Metric:        IoU\n",
            "Mask  :     0.8030\n",
            "EPOCH: 5 (LR: 0.001000)\n"
          ],
          "name": "stdout"
        },
        {
          "output_type": "stream",
          "text": [
            "Loss=0.13544 LossMask=0.01950 LossDepth=0.115949 Batch_id=2187: 100%|██████████| 2188/2188 [12:19<00:00,  2.96it/s]\n",
            "Clipping input data to the valid range for imshow with RGB data ([0..1] for floats or [0..255] for integers).\n",
            "Clipping input data to the valid range for imshow with RGB data ([0..1] for floats or [0..255] for integers).\n",
            "Clipping input data to the valid range for imshow with RGB data ([0..1] for floats or [0..255] for integers).\n",
            "  0%|          | 0/2188 [00:00<?, ?it/s]"
          ],
          "name": "stderr"
        },
        {
          "output_type": "stream",
          "text": [
            "\n",
            " Test set: Average loss: 0.1681, Average MaskLoss: 0.0466, Average DepthLoss: 0.1215\n",
            "\n",
            "Metric:     t<1.25,   t<1.25^2,   t<1.25^3,        rms\n",
            "Depth :     0.7643,     0.9304,     0.9779,     0.0879  \n",
            "\n",
            "Metric:        IoU\n",
            "Mask  :     0.8015\n",
            "EPOCH: 6 (LR: 0.001000)\n"
          ],
          "name": "stdout"
        },
        {
          "output_type": "stream",
          "text": [
            "Loss=0.12672 LossMask=0.01783 LossDepth=0.108898 Batch_id=2187: 100%|██████████| 2188/2188 [12:19<00:00,  2.96it/s]\n",
            "Clipping input data to the valid range for imshow with RGB data ([0..1] for floats or [0..255] for integers).\n",
            "Clipping input data to the valid range for imshow with RGB data ([0..1] for floats or [0..255] for integers).\n",
            "Clipping input data to the valid range for imshow with RGB data ([0..1] for floats or [0..255] for integers).\n",
            "  0%|          | 0/2188 [00:00<?, ?it/s]"
          ],
          "name": "stderr"
        },
        {
          "output_type": "stream",
          "text": [
            "\n",
            " Test set: Average loss: 0.1301, Average MaskLoss: 0.0175, Average DepthLoss: 0.1126\n",
            "\n",
            "Metric:     t<1.25,   t<1.25^2,   t<1.25^3,        rms\n",
            "Depth :     0.7839,     0.9395,     0.9816,     0.0819  \n",
            "\n",
            "Metric:        IoU\n",
            "Mask  :     0.7967\n",
            "EPOCH: 7 (LR: 0.001000)\n"
          ],
          "name": "stdout"
        },
        {
          "output_type": "stream",
          "text": [
            "Loss=0.13011 LossMask=0.01838 LossDepth=0.111732 Batch_id=2187: 100%|██████████| 2188/2188 [12:19<00:00,  2.96it/s]\n",
            "Clipping input data to the valid range for imshow with RGB data ([0..1] for floats or [0..255] for integers).\n",
            "Clipping input data to the valid range for imshow with RGB data ([0..1] for floats or [0..255] for integers).\n",
            "Clipping input data to the valid range for imshow with RGB data ([0..1] for floats or [0..255] for integers).\n",
            "Clipping input data to the valid range for imshow with RGB data ([0..1] for floats or [0..255] for integers).\n",
            "  0%|          | 0/2188 [00:00<?, ?it/s]"
          ],
          "name": "stderr"
        },
        {
          "output_type": "stream",
          "text": [
            "\n",
            " Test set: Average loss: 0.1301, Average MaskLoss: 0.0172, Average DepthLoss: 0.1129\n",
            "\n",
            "Metric:     t<1.25,   t<1.25^2,   t<1.25^3,        rms\n",
            "Depth :     0.7821,     0.9385,     0.9811,     0.0825  \n",
            "\n",
            "Metric:        IoU\n",
            "Mask  :     0.8000\n",
            "EPOCH: 8 (LR: 0.001000)\n"
          ],
          "name": "stdout"
        },
        {
          "output_type": "stream",
          "text": [
            "Loss=0.13775 LossMask=0.01908 LossDepth=0.118667 Batch_id=2187: 100%|██████████| 2188/2188 [12:18<00:00,  2.96it/s]\n",
            "Clipping input data to the valid range for imshow with RGB data ([0..1] for floats or [0..255] for integers).\n",
            "Clipping input data to the valid range for imshow with RGB data ([0..1] for floats or [0..255] for integers).\n",
            "Clipping input data to the valid range for imshow with RGB data ([0..1] for floats or [0..255] for integers).\n",
            "Clipping input data to the valid range for imshow with RGB data ([0..1] for floats or [0..255] for integers).\n",
            "  0%|          | 0/2188 [00:00<?, ?it/s]"
          ],
          "name": "stderr"
        },
        {
          "output_type": "stream",
          "text": [
            "\n",
            " Test set: Average loss: 0.1289, Average MaskLoss: 0.0175, Average DepthLoss: 0.1114\n",
            "\n",
            "Metric:     t<1.25,   t<1.25^2,   t<1.25^3,        rms\n",
            "Depth :     0.7870,     0.9404,     0.9817,     0.0812  \n",
            "\n",
            "Metric:        IoU\n",
            "Mask  :     0.8063\n",
            "EPOCH: 9 (LR: 0.001000)\n"
          ],
          "name": "stdout"
        },
        {
          "output_type": "stream",
          "text": [
            "Loss=0.12291 LossMask=0.01701 LossDepth=0.105904 Batch_id=2187: 100%|██████████| 2188/2188 [12:17<00:00,  2.97it/s]\n",
            "Clipping input data to the valid range for imshow with RGB data ([0..1] for floats or [0..255] for integers).\n",
            "Clipping input data to the valid range for imshow with RGB data ([0..1] for floats or [0..255] for integers).\n",
            "Clipping input data to the valid range for imshow with RGB data ([0..1] for floats or [0..255] for integers).\n",
            "  0%|          | 0/2188 [00:00<?, ?it/s]"
          ],
          "name": "stderr"
        },
        {
          "output_type": "stream",
          "text": [
            "\n",
            " Test set: Average loss: 0.1270, Average MaskLoss: 0.0166, Average DepthLoss: 0.1104\n",
            "\n",
            "Metric:     t<1.25,   t<1.25^2,   t<1.25^3,        rms\n",
            "Depth :     0.7898,     0.9438,     0.9837,     0.0808  \n",
            "\n",
            "Metric:        IoU\n",
            "Mask  :     0.7978\n",
            "EPOCH: 10 (LR: 0.001000)\n"
          ],
          "name": "stdout"
        },
        {
          "output_type": "stream",
          "text": [
            "Loss=0.12948 LossMask=0.01678 LossDepth=0.112703 Batch_id=2187: 100%|██████████| 2188/2188 [12:19<00:00,  2.96it/s]\n",
            "Clipping input data to the valid range for imshow with RGB data ([0..1] for floats or [0..255] for integers).\n",
            "Clipping input data to the valid range for imshow with RGB data ([0..1] for floats or [0..255] for integers).\n",
            "Clipping input data to the valid range for imshow with RGB data ([0..1] for floats or [0..255] for integers).\n",
            "  0%|          | 0/2188 [00:00<?, ?it/s]"
          ],
          "name": "stderr"
        },
        {
          "output_type": "stream",
          "text": [
            "\n",
            " Test set: Average loss: 0.1270, Average MaskLoss: 0.0163, Average DepthLoss: 0.1107\n",
            "\n",
            "Metric:     t<1.25,   t<1.25^2,   t<1.25^3,        rms\n",
            "Depth :     0.7868,     0.9439,     0.9839,     0.0821  \n",
            "\n",
            "Metric:        IoU\n",
            "Mask  :     0.8099\n",
            "EPOCH: 11 (LR: 0.001000)\n"
          ],
          "name": "stdout"
        },
        {
          "output_type": "stream",
          "text": [
            "Loss=0.11950 LossMask=0.01545 LossDepth=0.104045 Batch_id=2187: 100%|██████████| 2188/2188 [12:22<00:00,  2.95it/s]\n",
            "Clipping input data to the valid range for imshow with RGB data ([0..1] for floats or [0..255] for integers).\n",
            "Clipping input data to the valid range for imshow with RGB data ([0..1] for floats or [0..255] for integers).\n",
            "Clipping input data to the valid range for imshow with RGB data ([0..1] for floats or [0..255] for integers).\n",
            "Clipping input data to the valid range for imshow with RGB data ([0..1] for floats or [0..255] for integers).\n",
            "  0%|          | 0/2188 [00:00<?, ?it/s]"
          ],
          "name": "stderr"
        },
        {
          "output_type": "stream",
          "text": [
            "\n",
            " Test set: Average loss: 0.1254, Average MaskLoss: 0.0174, Average DepthLoss: 0.1079\n",
            "\n",
            "Metric:     t<1.25,   t<1.25^2,   t<1.25^3,        rms\n",
            "Depth :     0.7945,     0.9426,     0.9825,     0.0796  \n",
            "\n",
            "Metric:        IoU\n",
            "Mask  :     0.8093\n",
            "EPOCH: 12 (LR: 0.001000)\n"
          ],
          "name": "stdout"
        },
        {
          "output_type": "stream",
          "text": [
            "Loss=0.11917 LossMask=0.01528 LossDepth=0.103883 Batch_id=2187: 100%|██████████| 2188/2188 [12:24<00:00,  2.94it/s]\n",
            "Clipping input data to the valid range for imshow with RGB data ([0..1] for floats or [0..255] for integers).\n",
            "Clipping input data to the valid range for imshow with RGB data ([0..1] for floats or [0..255] for integers).\n",
            "Clipping input data to the valid range for imshow with RGB data ([0..1] for floats or [0..255] for integers).\n",
            "Clipping input data to the valid range for imshow with RGB data ([0..1] for floats or [0..255] for integers).\n",
            "  0%|          | 0/2188 [00:00<?, ?it/s]"
          ],
          "name": "stderr"
        },
        {
          "output_type": "stream",
          "text": [
            "\n",
            " Test set: Average loss: 0.1360, Average MaskLoss: 0.0245, Average DepthLoss: 0.1115\n",
            "\n",
            "Metric:     t<1.25,   t<1.25^2,   t<1.25^3,        rms\n",
            "Depth :     0.7867,     0.9410,     0.9818,     0.0822  \n",
            "\n",
            "Metric:        IoU\n",
            "Mask  :     0.7881\n",
            "EPOCH: 13 (LR: 0.001000)\n"
          ],
          "name": "stdout"
        },
        {
          "output_type": "stream",
          "text": [
            "Loss=0.12124 LossMask=0.01572 LossDepth=0.105523 Batch_id=2187: 100%|██████████| 2188/2188 [12:24<00:00,  2.94it/s]\n",
            "Clipping input data to the valid range for imshow with RGB data ([0..1] for floats or [0..255] for integers).\n",
            "Clipping input data to the valid range for imshow with RGB data ([0..1] for floats or [0..255] for integers).\n",
            "Clipping input data to the valid range for imshow with RGB data ([0..1] for floats or [0..255] for integers).\n",
            "Clipping input data to the valid range for imshow with RGB data ([0..1] for floats or [0..255] for integers).\n",
            "  0%|          | 0/2188 [00:00<?, ?it/s]"
          ],
          "name": "stderr"
        },
        {
          "output_type": "stream",
          "text": [
            "\n",
            " Test set: Average loss: 0.1236, Average MaskLoss: 0.0166, Average DepthLoss: 0.1070\n",
            "\n",
            "Metric:     t<1.25,   t<1.25^2,   t<1.25^3,        rms\n",
            "Depth :     0.7972,     0.9451,     0.9841,     0.0788  \n",
            "\n",
            "Metric:        IoU\n",
            "Mask  :     0.7906\n",
            "EPOCH: 14 (LR: 0.001000)\n"
          ],
          "name": "stdout"
        },
        {
          "output_type": "stream",
          "text": [
            "Loss=0.10860 LossMask=0.01655 LossDepth=0.092049 Batch_id=2187: 100%|██████████| 2188/2188 [12:24<00:00,  2.94it/s]\n",
            "Clipping input data to the valid range for imshow with RGB data ([0..1] for floats or [0..255] for integers).\n",
            "Clipping input data to the valid range for imshow with RGB data ([0..1] for floats or [0..255] for integers).\n",
            "Clipping input data to the valid range for imshow with RGB data ([0..1] for floats or [0..255] for integers).\n",
            "  0%|          | 0/2188 [00:00<?, ?it/s]"
          ],
          "name": "stderr"
        },
        {
          "output_type": "stream",
          "text": [
            "\n",
            " Test set: Average loss: 0.1225, Average MaskLoss: 0.0160, Average DepthLoss: 0.1065\n",
            "\n",
            "Metric:     t<1.25,   t<1.25^2,   t<1.25^3,        rms\n",
            "Depth :     0.7968,     0.9452,     0.9841,     0.0779  \n",
            "\n",
            "Metric:        IoU\n",
            "Mask  :     0.8144\n",
            "EPOCH: 15 (LR: 0.001000)\n"
          ],
          "name": "stdout"
        },
        {
          "output_type": "stream",
          "text": [
            "Loss=0.10666 LossMask=0.01442 LossDepth=0.092236 Batch_id=2187: 100%|██████████| 2188/2188 [12:25<00:00,  2.94it/s]\n",
            "Clipping input data to the valid range for imshow with RGB data ([0..1] for floats or [0..255] for integers).\n",
            "Clipping input data to the valid range for imshow with RGB data ([0..1] for floats or [0..255] for integers).\n",
            "  0%|          | 0/2188 [00:00<?, ?it/s]"
          ],
          "name": "stderr"
        },
        {
          "output_type": "stream",
          "text": [
            "\n",
            " Test set: Average loss: 0.1218, Average MaskLoss: 0.0157, Average DepthLoss: 0.1060\n",
            "\n",
            "Metric:     t<1.25,   t<1.25^2,   t<1.25^3,        rms\n",
            "Depth :     0.7979,     0.9459,     0.9843,     0.0785  \n",
            "\n",
            "Metric:        IoU\n",
            "Mask  :     0.8104\n",
            "EPOCH: 16 (LR: 0.001000)\n"
          ],
          "name": "stdout"
        },
        {
          "output_type": "stream",
          "text": [
            "Loss=0.11567 LossMask=0.01573 LossDepth=0.099941 Batch_id=933:  43%|████▎     | 934/2188 [05:19<07:12,  2.90it/s]"
          ],
          "name": "stderr"
        },
        {
          "output_type": "stream",
          "text": [
            "Buffered data was truncated after reaching the output size limit."
          ],
          "name": "stdout"
        }
      ]
    },
    {
      "cell_type": "markdown",
      "metadata": {
        "id": "PU0fDWIrPUEj",
        "colab_type": "text"
      },
      "source": [
        "## Plot Validation Loss\n",
        "\n",
        "Plot the change in validation loss vs epochs"
      ]
    },
    {
      "cell_type": "code",
      "metadata": {
        "id": "tO2OsyX-NdkQ",
        "colab_type": "code",
        "colab": {}
      },
      "source": [
        "import matplotlib.pyplot as plt\n",
        "def plot_images(img_data, classes, img_name):\n",
        "  figure = plt.figure(figsize=(10, 10))\n",
        "  \n",
        "  num_of_images = len(img_data)\n",
        "  for index in range(1, num_of_images + 1):\n",
        "      img = denormalize(img_data[index-1][\"img\"])  # unnormalize\n",
        "      plt.subplot(5, 5, index)\n",
        "      plt.axis('off')\n",
        "      plt.imshow(np.transpose(img.cpu().numpy(), (1, 2, 0)))\n",
        "      plt.title(\"Predicted: %s\\nActual: %s\" % (classes[img_data[index-1][\"pred\"]], classes[img_data[index-1][\"target\"]]))\n",
        "  \n",
        "  plt.tight_layout()\n",
        "  plt.savefig(img_name)\n",
        "\n",
        "def plot_graph(data, metric):\n",
        "    fig, ax = plt.subplots()\n",
        "\n",
        "    for sub_metric in data.keys():\n",
        "      ax.plot(data[sub_metric], label=sub_metric)\n",
        "    \n",
        "    plt.title(f'Change in %s' % (metric))\n",
        "    plt.xlabel('Epoch')\n",
        "    plt.ylabel(metric)\n",
        "    \n",
        "    ax.legend()\n",
        "    plt.show()\n",
        "\n",
        "    fig.savefig(f'%s_change.png' % (metric.lower()))"
      ],
      "execution_count": 27,
      "outputs": []
    },
    {
      "cell_type": "code",
      "metadata": {
        "id": "HlbG6VVIPU1M",
        "colab_type": "code",
        "colab": {
          "base_uri": "https://localhost:8080/",
          "height": 295
        },
        "outputId": "4c1bb675-314b-4f65-e496-993b649a3b3f"
      },
      "source": [
        "plt_data = {\n",
        "    \"val\": test_losses,\n",
        "    \"train\": train_losses,\n",
        "}\n",
        "plot_graph(plt_data, \"Loss\")"
      ],
      "execution_count": 28,
      "outputs": [
        {
          "output_type": "display_data",
          "data": {
            "image/png": "[encoded data removed]",
            "text/plain": [
              "<Figure size 432x288 with 1 Axes>"
            ]
          },
          "metadata": {
            "tags": [],
            "needs_background": "light"
          }
        }
      ]
    }
  ]
}