{
  "nbformat": 4,
  "nbformat_minor": 0,
  "metadata": {
    "kernelspec": {
      "name": "python3",
      "display_name": "Python 3"
    },
    "language_info": {
      "codemirror_mode": {
        "name": "ipython",
        "version": 3
      },
      "file_extension": ".py",
      "mimetype": "text/x-python",
      "name": "python",
      "nbconvert_exporter": "python",
      "pygments_lexer": "ipython3",
      "version": "3.6.6"
    },
    "colab": {
      "name": "EVA4_S15A_DepthModel_Aditya_1.ipynb",
      "provenance": [],
      "collapsed_sections": []
    },
    "accelerator": "GPU"
  },
  "cells": [
    {
      "cell_type": "markdown",
      "metadata": {
        "id": "39o9CEPhxDyQ",
        "colab_type": "text"
      },
      "source": [
        "## Enabling Import of Custom Python Modules from Google Drive"
      ]
    },
    {
      "cell_type": "code",
      "metadata": {
        "id": "Qh9TWVxcW_Qv",
        "colab_type": "code",
        "colab": {
          "base_uri": "https://localhost:8080/",
          "height": 121
        },
        "outputId": "ea292b4d-bd4c-47e8-a4a0-b5b05fff21ef"
      },
      "source": [
        "from google.colab import drive\n",
        "drive.mount('/content/gdrive',force_remount=True)\n",
        "%reload_ext autoreload\n",
        "%autoreload 2"
      ],
      "execution_count": null,
      "outputs": [
        {
          "output_type": "stream",
          "text": [
            "Go to this URL in a browser: https://accounts.google.com/o/oauth2/auth?client_id=947318989803-6bn6qk8qdgf4n4g3pfee6491hc0brc4i.apps.googleusercontent.com&redirect_uri=urn%3aietf%3awg%3aoauth%3a2.0%3aoob&response_type=code&scope=email%20https%3a%2f%2fwww.googleapis.com%2fauth%2fdocs.test%20https%3a%2f%2fwww.googleapis.com%2fauth%2fdrive%20https%3a%2f%2fwww.googleapis.com%2fauth%2fdrive.photos.readonly%20https%3a%2f%2fwww.googleapis.com%2fauth%2fpeopleapi.readonly\n",
            "\n",
            "Enter your authorization code:\n",
            "··········\n",
            "Mounted at /content/gdrive\n"
          ],
          "name": "stdout"
        }
      ]
    },
    {
      "cell_type": "markdown",
      "metadata": {
        "id": "fa6Wl-4GvLUr",
        "colab_type": "text"
      },
      "source": [
        "## Foreground + Background & Mask Image Generation"
      ]
    },
    {
      "cell_type": "code",
      "metadata": {
        "id": "qehvl2cayN1e",
        "colab_type": "code",
        "colab": {}
      },
      "source": [
        "import zipfile\n",
        "\n",
        "path_to_zip_file = \"/content/gdrive/My Drive/EVA4-Workspace/persons_fg/gen_fg_bg.zip\"\n",
        "directory_to_extract_to = '/content/'\n",
        "print(\"Extracting zip file: %s\" % path_to_zip_file)\n",
        "with zipfile.ZipFile(path_to_zip_file, 'r') as zip_ref:\n",
        "  zip_ref.extractall(directory_to_extract_to)\n",
        "print(\"Extracted at: %s\" % directory_to_extract_to)"
      ],
      "execution_count": null,
      "outputs": []
    },
    {
      "cell_type": "code",
      "metadata": {
        "id": "wMUCIGV198gY",
        "colab_type": "code",
        "colab": {
          "base_uri": "https://localhost:8080/",
          "height": 51
        },
        "outputId": "90fbc0ec-11e1-47f4-8746-f720afe60202"
      },
      "source": [
        "import zipfile\n",
        "\n",
        "path_to_zip_file = \"/content/fg_bg.zip\"\n",
        "directory_to_extract_to = '/content/'\n",
        "print(\"Extracting zip file: %s\" % path_to_zip_file)\n",
        "with zipfile.ZipFile(path_to_zip_file, 'r') as zip_ref:\n",
        "  zip_ref.extractall(directory_to_extract_to)\n",
        "print(\"Extracted at: %s\" % directory_to_extract_to)"
      ],
      "execution_count": null,
      "outputs": [
        {
          "output_type": "stream",
          "text": [
            "Extracting zip file: /content/fg_bg.zip\n",
            "Extracted at: /content/\n"
          ],
          "name": "stdout"
        }
      ]
    },
    {
      "cell_type": "markdown",
      "metadata": {
        "id": "gh32j7FEGV6z",
        "colab_type": "text"
      },
      "source": [
        "Utils to process raw data downloaded from the internet\n",
        "\n",
        "\n",
        "*   Resize bg into 224*224\n",
        "*   Rescale fg and fg_mask into h=105 and scale down width accordingly\n",
        "*   Rename the data\n",
        "\n",
        "This was executed locally and the processed data was stored in the drive as \"**gen_fg_bg.zip**\"\n"
      ]
    },
    {
      "cell_type": "code",
      "metadata": {
        "id": "DikaMwkMzBfW",
        "colab_type": "code",
        "colab": {}
      },
      "source": [
        "import os, sys\n",
        "from PIL import Image\n",
        "import numpy as np\n",
        "\n",
        "def sizes(l):\n",
        "  l.sort()\n",
        "  sizes = []\n",
        "  for infile in l:\n",
        "    try:\n",
        "      im = Image.open(infile)\n",
        "      print(infile, im.size)\n",
        "      sizes.append([infile, im.size])\n",
        "    except Exception as e:\n",
        "      print(\"Err: %s\" % e)\n",
        "  return sizes\n",
        "\n",
        "def thumbnail(l, fmt=\"JPEG\"):\n",
        "  l.sort()\n",
        "  size = 105, 105\n",
        "  for infile in l:\n",
        "    try:\n",
        "      im = Image.open(infile)\n",
        "      base_w, base_h = im.size\n",
        "      new_h = 105\n",
        "      hpercent = float(base_h)/float(new_h)\n",
        "      new_w = int(float(base_w)*float(hpercent))\n",
        "      im.thumbnail((new_w, new_h), Image.ANTIALIAS)\n",
        "      im.save(infile, fmt)\n",
        "    except IOError:\n",
        "      print(\"cannot create thumbnail for '%s'\" % infile)\n",
        "\n",
        "def rename(l, tag, ext=\"jpg\"):\n",
        "  l.sort()\n",
        "  for idx, src in enumerate(l):\n",
        "    dst = f\"{tag}_{idx:02d}.{ext}\"\n",
        "    os.rename(src, dst)\n",
        "\n",
        "def reshape(l):\n",
        "  size = 224, 224\n",
        "  for infile in l:\n",
        "    try:\n",
        "      im = Image.open(infile)\n",
        "      im = im.resize(size, Image.LANCZOS)\n",
        "      im.save(infile, \"JPEG\")\n",
        "    except IOError:\n",
        "      print(\"cannot resize '%s'\" % infile)\n",
        "\n",
        "def preprocess():\n",
        "  base_dir = os.getcwd()\n",
        "\n",
        "  mdir = f\"{base_dir}/bg/\"\n",
        "  os.chdir(mdir)\n",
        "  l = os.listdir(\".\")\n",
        "  # sm = sizes(l)\n",
        "  reshape(l)\n",
        "  rename(l, \"bg\", \"jpg\")\n",
        "\n",
        "  mdir = f\"{base_dir}/fg_mask/\"\n",
        "  os.chdir(mdir)\n",
        "  l = os.listdir(\".\")\n",
        "  # sm = sizes(l)\n",
        "  thumbnail(l, \"JPEG\")\n",
        "  rename(l, \"fg\", \"jpg\")\n",
        "\n",
        "  mdir = f\"{base_dir}/fg/\"\n",
        "  os.chdir(mdir)\n",
        "  l = os.listdir(\".\")\n",
        "  # sf = sizes(l)\n",
        "  thumbnail(l, \"PNG\")\n",
        "  rename(l, \"fg\", \"png\")"
      ],
      "execution_count": null,
      "outputs": []
    },
    {
      "cell_type": "markdown",
      "metadata": {
        "id": "fVMTJVAEG9-i",
        "colab_type": "text"
      },
      "source": [
        "Utils to overlay foreground on background and create its mask also\n",
        "\n",
        "\n",
        "*   Each foreground is flipped horizontally\n",
        "*   For each orientation of foreground, randomly overlay it on the background 20 times.\n",
        "*   #bg = 100\n",
        "*   #fg = 100\n",
        "*   #fg_bg = 100\\*100\\*2\\*20 = 400,000\n",
        "\n"
      ]
    },
    {
      "cell_type": "code",
      "metadata": {
        "id": "BSpFVgQ7GC8j",
        "colab_type": "code",
        "colab": {}
      },
      "source": [
        "from zipfile import ZipFile, ZIP_STORED\n",
        "import io\n",
        "\n",
        "def overlay_fg_on_bg():\n",
        "  bg_dir = \"./bg/\"\n",
        "  bg_imgs = sorted(os.listdir(bg_dir))\n",
        "  fg_dir = \"./fg/\"\n",
        "  fg_imgs = sorted(os.listdir(fg_dir))\n",
        "  fg_masks_dir = \"./fg_mask/\"\n",
        "  assert(len(bg_imgs) == 100)\n",
        "  assert(len(fg_imgs) == 100)\n",
        "  for bidx, bg_img in enumerate(bg_imgs):\n",
        "    out_zip = ZipFile('fg_bg.zip', mode='a', compression=ZIP_STORED)\n",
        "    label_info = open(f'fg_bg_labels.txt', 'w+')\n",
        "    idx = 4000 * bidx\n",
        "    print(f'Processing BG {bidx}')\n",
        "    mbg = Image.open(bg_dir + bg_img)\n",
        "    for fidx, fg_img in enumerate(fg_imgs):\n",
        "      mfg = Image.open(fg_dir + fg_img)\n",
        "      assert(fg_img[-4:] == \".png\")\n",
        "      mfg_mask = Image.open(fg_masks_dir + fg_img[:-4] + \".jpg\")\n",
        "\n",
        "      for i in range(20):\n",
        "        for should_flip in [True, False]:\n",
        "          bg = mbg.copy()\n",
        "          fg = mfg.copy()\n",
        "          fg_mask = mfg_mask.copy()\n",
        "\n",
        "          if should_flip:\n",
        "            fg = fg.transpose(Image.FLIP_LEFT_RIGHT)\n",
        "            fg_mask = fg_mask.transpose(Image.FLIP_LEFT_RIGHT)\n",
        "\n",
        "            bg_w, bg_h = bg.size\n",
        "            fg_w, fg_h = fg.size\n",
        "            max_h = bg_h - fg_h\n",
        "            max_w = bg_w - fg_w\n",
        "            pos_x = np.random.randint(low=0, high=max_w, size=1)[0]\n",
        "            pos_y = np.random.randint(low=0, high=max_h, size=1)[0]\n",
        "\n",
        "            bg.paste(fg, (pos_x, pos_y), fg)\n",
        "\n",
        "            bg_mask = Image.new('L', bg.size)\n",
        "            fg_mask = fg_mask.convert('L')\n",
        "            bg_mask.paste(fg_mask, (pos_x, pos_y), fg_mask)\n",
        "\n",
        "            bg.save('b_temp.jpg', optimize=True, quality=65)\n",
        "            bg_mask.save('m_temp.jpg', optimize=True, quality=65)\n",
        "\n",
        "            out_zip.write('b_temp.jpg', f'fg_bg/{bg_img[:-4]}/{bg_img[:-4]}_{fg_img[:-4]}_{\"T\" if should_flip else \"F\"}_{idx:06d}.jpg')\n",
        "            out_zip.write('m_temp.jpg', f'fg_bg_masks/{bg_img[:-4]}/{bg_img[:-4]}_{fg_img[:-4]}_{\"T\" if should_flip else \"F\"}_{idx:06d}.jpg')\n",
        "            label_info.write(f'{bg_img[:-4]}_{fg_img[:-4]}_{\"T\" if should_flip else \"F\"}_{idx:06d}.jpg\\t{pos_x}\\t{pos_y}\\n')\n",
        "\n",
        "            idx += 1\n",
        "\t\t\n",
        "    label_info.close()\n",
        "    out_zip.write('fg_bg_labels.txt', f'labels/{bg_img[:-4]}_label_info.txt')\n",
        "    out_zip.close()\n"
      ],
      "execution_count": null,
      "outputs": []
    },
    {
      "cell_type": "markdown",
      "metadata": {
        "id": "AlmA5dlHH4Tu",
        "colab_type": "text"
      },
      "source": [
        "Generate the fg_bg images and masks"
      ]
    },
    {
      "cell_type": "code",
      "metadata": {
        "id": "2hPjPGXHzO7a",
        "colab_type": "code",
        "colab": {
          "base_uri": "https://localhost:8080/",
          "height": 1000
        },
        "outputId": "7447f23c-8eea-4154-cdea-112289176810"
      },
      "source": [
        "overlay_fg_on_bg()"
      ],
      "execution_count": null,
      "outputs": [
        {
          "output_type": "stream",
          "text": [
            "Processing BG 0\n",
            "Processing BG 1\n",
            "Processing BG 2\n",
            "Processing BG 3\n",
            "Processing BG 4\n",
            "Processing BG 5\n",
            "Processing BG 6\n",
            "Processing BG 7\n",
            "Processing BG 8\n",
            "Processing BG 9\n",
            "Processing BG 10\n",
            "Processing BG 11\n",
            "Processing BG 12\n",
            "Processing BG 13\n",
            "Processing BG 14\n",
            "Processing BG 15\n",
            "Processing BG 16\n",
            "Processing BG 17\n",
            "Processing BG 18\n",
            "Processing BG 19\n",
            "Processing BG 20\n",
            "Processing BG 21\n",
            "Processing BG 22\n",
            "Processing BG 23\n",
            "Processing BG 24\n",
            "Processing BG 25\n",
            "Processing BG 26\n",
            "Processing BG 27\n",
            "Processing BG 28\n",
            "Processing BG 29\n",
            "Processing BG 30\n",
            "Processing BG 31\n",
            "Processing BG 32\n",
            "Processing BG 33\n",
            "Processing BG 34\n",
            "Processing BG 35\n",
            "Processing BG 36\n",
            "Processing BG 37\n",
            "Processing BG 38\n",
            "Processing BG 39\n",
            "Processing BG 40\n",
            "Processing BG 41\n",
            "Processing BG 42\n",
            "Processing BG 43\n",
            "Processing BG 44\n",
            "Processing BG 45\n",
            "Processing BG 46\n",
            "Processing BG 47\n",
            "Processing BG 48\n",
            "Processing BG 49\n",
            "Processing BG 50\n",
            "Processing BG 51\n",
            "Processing BG 52\n",
            "Processing BG 53\n",
            "Processing BG 54\n",
            "Processing BG 55\n",
            "Processing BG 56\n",
            "Processing BG 57\n",
            "Processing BG 58\n",
            "Processing BG 59\n",
            "Processing BG 60\n",
            "Processing BG 61\n",
            "Processing BG 62\n",
            "Processing BG 63\n",
            "Processing BG 64\n",
            "Processing BG 65\n",
            "Processing BG 66\n",
            "Processing BG 67\n",
            "Processing BG 68\n",
            "Processing BG 69\n",
            "Processing BG 70\n",
            "Processing BG 71\n",
            "Processing BG 72\n",
            "Processing BG 73\n",
            "Processing BG 74\n",
            "Processing BG 75\n",
            "Processing BG 76\n",
            "Processing BG 77\n",
            "Processing BG 78\n",
            "Processing BG 79\n",
            "Processing BG 80\n",
            "Processing BG 81\n",
            "Processing BG 82\n",
            "Processing BG 83\n",
            "Processing BG 84\n",
            "Processing BG 85\n",
            "Processing BG 86\n",
            "Processing BG 87\n",
            "Processing BG 88\n",
            "Processing BG 89\n",
            "Processing BG 90\n",
            "Processing BG 91\n",
            "Processing BG 92\n",
            "Processing BG 93\n",
            "Processing BG 94\n",
            "Processing BG 95\n",
            "Processing BG 96\n",
            "Processing BG 97\n",
            "Processing BG 98\n",
            "Processing BG 99\n"
          ],
          "name": "stdout"
        }
      ]
    },
    {
      "cell_type": "markdown",
      "metadata": {
        "id": "fUeQO2k4vEvQ",
        "colab_type": "text"
      },
      "source": [
        "## Depth Image Generation"
      ]
    },
    {
      "cell_type": "code",
      "metadata": {
        "id": "EFgkpSAEh0Un",
        "colab_type": "code",
        "colab": {
          "base_uri": "https://localhost:8080/",
          "height": 50
        },
        "outputId": "8b390c4f-5f33-4248-ecf3-a46f7b077592"
      },
      "source": [
        "import zipfile\n",
        "\n",
        "path_to_zip_file = \"/content/gdrive/My Drive/fg_bg_7z.zip\"\n",
        "directory_to_extract_to = '/content/'\n",
        "print(\"Extracting zip file: %s\" % path_to_zip_file)\n",
        "with zipfile.ZipFile(path_to_zip_file, 'r') as zip_ref:\n",
        "  for f in zip_ref.namelist():\n",
        "    if f.startswith('fg_bg/'):\n",
        "      zip_ref.extract(f, directory_to_extract_to)\n",
        "print(\"Extracted at: %s\" % directory_to_extract_to)"
      ],
      "execution_count": null,
      "outputs": [
        {
          "output_type": "stream",
          "text": [
            "Extracting zip file: /content/gdrive/My Drive/fg_bg_7z.zip\n",
            "Extracted at: /content/\n"
          ],
          "name": "stdout"
        }
      ]
    },
    {
      "cell_type": "code",
      "metadata": {
        "id": "lldMWze1_63V",
        "colab_type": "code",
        "colab": {
          "base_uri": "https://localhost:8080/",
          "height": 34
        },
        "outputId": "a0cd445b-41c8-4494-8220-23b9134e2df0"
      },
      "source": [
        "!nvidia-smi -L"
      ],
      "execution_count": null,
      "outputs": [
        {
          "output_type": "stream",
          "text": [
            "GPU 0: Tesla K80 (UUID: GPU-6ea1e9e2-ae46-586f-520f-39ef8321424b)\n"
          ],
          "name": "stdout"
        }
      ]
    },
    {
      "cell_type": "code",
      "metadata": {
        "id": "6ZkI9Va9TbBl",
        "colab_type": "code",
        "colab": {
          "base_uri": "https://localhost:8080/",
          "height": 101
        },
        "outputId": "8056f0bf-76f6-4377-dc6c-dc5e18936e12"
      },
      "source": [
        "#!git clone https://github.com/csharpshooter/DenseDepth.git"
      ],
      "execution_count": null,
      "outputs": [
        {
          "output_type": "stream",
          "text": [
            "Cloning into 'DenseDepth'...\n",
            "remote: Enumerating objects: 234, done.\u001b[K\n",
            "remote: Total 234 (delta 0), reused 0 (delta 0), pack-reused 234\u001b[K\n",
            "Receiving objects: 100% (234/234), 11.79 MiB | 6.05 MiB/s, done.\n",
            "Resolving deltas: 100% (115/115), done.\n"
          ],
          "name": "stdout"
        }
      ]
    },
    {
      "cell_type": "code",
      "metadata": {
        "id": "laFD7v9sltgM",
        "colab_type": "code",
        "colab": {
          "base_uri": "https://localhost:8080/",
          "height": 35
        },
        "outputId": "53bcd778-fa92-4115-a1be-20200459d61b"
      },
      "source": [
        "import sys\n",
        "sys.path.append('/content/gdrive/My Drive/DenseDepth-master')\n",
        "import os\n",
        "os.chdir('/content/gdrive/My Drive/DenseDepth-master')\n",
        "os.getcwd()"
      ],
      "execution_count": null,
      "outputs": [
        {
          "output_type": "execute_result",
          "data": {
            "application/vnd.google.colaboratory.intrinsic": {
              "type": "string"
            },
            "text/plain": [
              "'/content/gdrive/My Drive/DenseDepth-master'"
            ]
          },
          "metadata": {
            "tags": []
          },
          "execution_count": 4
        }
      ]
    },
    {
      "cell_type": "code",
      "metadata": {
        "id": "QrTVkQXwQi-e",
        "colab_type": "code",
        "colab": {}
      },
      "source": [
        "#!wget https://s3-eu-west-1.amazonaws.com/densedepth/nyu.h5 -O ./DenseDepth/nyu.h5"
      ],
      "execution_count": null,
      "outputs": []
    },
    {
      "cell_type": "code",
      "metadata": {
        "id": "GQtXoeDsRZza",
        "colab_type": "code",
        "colab": {
          "base_uri": "https://localhost:8080/",
          "height": 34
        },
        "outputId": "6a4a57c2-8ca5-435f-d06a-6afd0d956336"
      },
      "source": [
        "from mytest1 import get_model, infer"
      ],
      "execution_count": null,
      "outputs": [
        {
          "output_type": "stream",
          "text": [
            "Using TensorFlow backend.\n"
          ],
          "name": "stderr"
        }
      ]
    },
    {
      "cell_type": "code",
      "metadata": {
        "id": "pTEEaxX4V9Bv",
        "colab_type": "code",
        "colab": {
          "base_uri": "https://localhost:8080/",
          "height": 67
        },
        "outputId": "e8c67582-00ea-4d08-c7b1-e317f88307ae"
      },
      "source": [
        "model = get_model()"
      ],
      "execution_count": null,
      "outputs": [
        {
          "output_type": "stream",
          "text": [
            "Loading model...\n",
            "\n",
            "Model loaded (nyu.h5).\n"
          ],
          "name": "stdout"
        }
      ]
    },
    {
      "cell_type": "markdown",
      "metadata": {
        "id": "mWE_LkqQthxi",
        "colab_type": "text"
      },
      "source": [
        ""
      ]
    },
    {
      "cell_type": "code",
      "metadata": {
        "id": "gmlurHJ70TwQ",
        "colab_type": "code",
        "colab": {
          "base_uri": "https://localhost:8080/",
          "height": 1000
        },
        "outputId": "61bf2336-c0c5-470c-b141-5212dc21c2c7"
      },
      "source": [
        "from zipfile import ZipFile, ZIP_STORED\n",
        "import os\n",
        "import zipfile\n",
        "import datetime\n",
        "\n",
        "bg_start = 90\n",
        "bg_end = 100\n",
        "#zip_file_name = f\"fg_bg_depth_s{bg_start:02d}_e{bg_end:02d}.zip\"\n",
        "zip_file_name = 'fg_bg_depth_s56_e69.zip'\n",
        "\n",
        "for bg_id in range(bg_start, bg_end):\n",
        "    st = datetime.datetime.now()\n",
        "    zipf = ZipFile(zip_file_name, mode='a', compression=ZIP_STORED)\n",
        "    infer(model, bg_id, zipf=None, show_viz=False,\n",
        "          batch_size=512, scale=float(7/3), base_path=\"/content/fg_bg\")\n",
        "    #zipf.close()\n",
        "    et = datetime.datetime.now()\n",
        "    delta = et-st\n",
        "    print(\"processing time: \", delta)"
      ],
      "execution_count": null,
      "outputs": [
        {
          "output_type": "stream",
          "text": [
            "\n",
            "Loading images from /content/fg_bg/bg192_90_*.jpg\n",
            "Batch[1]: Loaded (512) images of size (448, 448, 3).\n",
            "Creating archive: /content/gdrive/My Drive/fg_bg_depth.zip\n",
            "Batch[2]: Loaded (512) images of size (448, 448, 3).\n",
            "Batch[3]: Loaded (512) images of size (448, 448, 3).\n",
            "Batch[4]: Loaded (512) images of size (448, 448, 3).\n",
            "Batch[5]: Loaded (512) images of size (448, 448, 3).\n",
            "Batch[6]: Loaded (512) images of size (448, 448, 3).\n",
            "Batch[7]: Loaded (512) images of size (448, 448, 3).\n",
            "Batch[8]: Loaded (416) images of size (448, 448, 3).\n",
            "processing time:  0:13:26.229864\n",
            "\n",
            "Loading images from /content/fg_bg/bg192_91_*.jpg\n",
            "Batch[1]: Loaded (512) images of size (448, 448, 3).\n",
            "Creating archive: /content/gdrive/My Drive/fg_bg_depth.zip\n",
            "Batch[2]: Loaded (512) images of size (448, 448, 3).\n",
            "Batch[3]: Loaded (512) images of size (448, 448, 3).\n",
            "Batch[4]: Loaded (512) images of size (448, 448, 3).\n",
            "Batch[5]: Loaded (512) images of size (448, 448, 3).\n",
            "Batch[6]: Loaded (512) images of size (448, 448, 3).\n",
            "Batch[7]: Loaded (512) images of size (448, 448, 3).\n",
            "Batch[8]: Loaded (416) images of size (448, 448, 3).\n",
            "processing time:  0:13:20.869724\n",
            "\n",
            "Loading images from /content/fg_bg/bg192_92_*.jpg\n",
            "Batch[1]: Loaded (512) images of size (448, 448, 3).\n",
            "Creating archive: /content/gdrive/My Drive/fg_bg_depth.zip\n",
            "Batch[2]: Loaded (512) images of size (448, 448, 3).\n",
            "Batch[3]: Loaded (512) images of size (448, 448, 3).\n",
            "Batch[4]: Loaded (512) images of size (448, 448, 3).\n",
            "Batch[5]: Loaded (512) images of size (448, 448, 3).\n",
            "Batch[6]: Loaded (512) images of size (448, 448, 3).\n",
            "Batch[7]: Loaded (512) images of size (448, 448, 3).\n",
            "Batch[8]: Loaded (416) images of size (448, 448, 3).\n",
            "processing time:  0:13:17.233654\n",
            "\n",
            "Loading images from /content/fg_bg/bg192_93_*.jpg\n",
            "Batch[1]: Loaded (512) images of size (448, 448, 3).\n",
            "Creating archive: /content/gdrive/My Drive/fg_bg_depth.zip\n",
            "Batch[2]: Loaded (512) images of size (448, 448, 3).\n",
            "Batch[3]: Loaded (512) images of size (448, 448, 3).\n",
            "Batch[4]: Loaded (512) images of size (448, 448, 3).\n",
            "Batch[5]: Loaded (512) images of size (448, 448, 3).\n",
            "Batch[6]: Loaded (512) images of size (448, 448, 3).\n",
            "Batch[7]: Loaded (512) images of size (448, 448, 3).\n",
            "Batch[8]: Loaded (416) images of size (448, 448, 3).\n",
            "processing time:  0:13:20.511911\n",
            "\n",
            "Loading images from /content/fg_bg/bg192_94_*.jpg\n",
            "Batch[1]: Loaded (512) images of size (448, 448, 3).\n",
            "Creating archive: /content/gdrive/My Drive/fg_bg_depth.zip\n",
            "Batch[2]: Loaded (512) images of size (448, 448, 3).\n",
            "Batch[3]: Loaded (512) images of size (448, 448, 3).\n",
            "Batch[4]: Loaded (512) images of size (448, 448, 3).\n",
            "Batch[5]: Loaded (512) images of size (448, 448, 3).\n",
            "Batch[6]: Loaded (512) images of size (448, 448, 3).\n",
            "Batch[7]: Loaded (512) images of size (448, 448, 3).\n",
            "Batch[8]: Loaded (416) images of size (448, 448, 3).\n",
            "processing time:  0:13:18.411763\n",
            "\n",
            "Loading images from /content/fg_bg/bg192_95_*.jpg\n",
            "Batch[1]: Loaded (512) images of size (448, 448, 3).\n",
            "Creating archive: /content/gdrive/My Drive/fg_bg_depth.zip\n",
            "Batch[2]: Loaded (512) images of size (448, 448, 3).\n",
            "Batch[3]: Loaded (512) images of size (448, 448, 3).\n",
            "Batch[4]: Loaded (512) images of size (448, 448, 3).\n",
            "Batch[5]: Loaded (512) images of size (448, 448, 3).\n",
            "Batch[6]: Loaded (512) images of size (448, 448, 3).\n",
            "Batch[7]: Loaded (512) images of size (448, 448, 3).\n",
            "Batch[8]: Loaded (416) images of size (448, 448, 3).\n",
            "processing time:  0:13:22.847860\n",
            "\n",
            "Loading images from /content/fg_bg/bg192_96_*.jpg\n",
            "Batch[1]: Loaded (512) images of size (448, 448, 3).\n",
            "Creating archive: /content/gdrive/My Drive/fg_bg_depth.zip\n",
            "Batch[2]: Loaded (512) images of size (448, 448, 3).\n",
            "Batch[3]: Loaded (512) images of size (448, 448, 3).\n",
            "Batch[4]: Loaded (512) images of size (448, 448, 3).\n",
            "Batch[5]: Loaded (512) images of size (448, 448, 3).\n",
            "Batch[6]: Loaded (512) images of size (448, 448, 3).\n",
            "Batch[7]: Loaded (512) images of size (448, 448, 3).\n",
            "Batch[8]: Loaded (416) images of size (448, 448, 3).\n",
            "processing time:  0:13:14.358402\n",
            "\n",
            "Loading images from /content/fg_bg/bg192_97_*.jpg\n",
            "Batch[1]: Loaded (512) images of size (448, 448, 3).\n",
            "Creating archive: /content/gdrive/My Drive/fg_bg_depth.zip\n",
            "Batch[2]: Loaded (512) images of size (448, 448, 3).\n",
            "Batch[3]: Loaded (512) images of size (448, 448, 3).\n",
            "Batch[4]: Loaded (512) images of size (448, 448, 3).\n",
            "Batch[5]: Loaded (512) images of size (448, 448, 3).\n",
            "Batch[6]: Loaded (512) images of size (448, 448, 3).\n",
            "Batch[7]: Loaded (512) images of size (448, 448, 3).\n",
            "Batch[8]: Loaded (416) images of size (448, 448, 3).\n",
            "processing time:  0:13:13.783529\n",
            "\n",
            "Loading images from /content/fg_bg/bg192_98_*.jpg\n",
            "Batch[1]: Loaded (512) images of size (448, 448, 3).\n",
            "Creating archive: /content/gdrive/My Drive/fg_bg_depth.zip\n",
            "Batch[2]: Loaded (512) images of size (448, 448, 3).\n",
            "Batch[3]: Loaded (512) images of size (448, 448, 3).\n",
            "Batch[4]: Loaded (512) images of size (448, 448, 3).\n",
            "Batch[5]: Loaded (512) images of size (448, 448, 3).\n",
            "Batch[6]: Loaded (512) images of size (448, 448, 3).\n",
            "Batch[7]: Loaded (512) images of size (448, 448, 3).\n",
            "Batch[8]: Loaded (416) images of size (448, 448, 3).\n",
            "processing time:  0:13:20.179115\n",
            "\n",
            "Loading images from /content/fg_bg/bg192_99_*.jpg\n",
            "Batch[1]: Loaded (512) images of size (448, 448, 3).\n",
            "Creating archive: /content/gdrive/My Drive/fg_bg_depth.zip\n",
            "Batch[2]: Loaded (512) images of size (448, 448, 3).\n",
            "Batch[3]: Loaded (512) images of size (448, 448, 3).\n",
            "Batch[4]: Loaded (512) images of size (448, 448, 3).\n",
            "Batch[5]: Loaded (512) images of size (448, 448, 3).\n",
            "Batch[6]: Loaded (512) images of size (448, 448, 3).\n",
            "Batch[7]: Loaded (512) images of size (448, 448, 3).\n",
            "Batch[8]: Loaded (416) images of size (448, 448, 3).\n",
            "processing time:  0:13:15.997145\n"
          ],
          "name": "stdout"
        }
      ]
    },
    {
      "cell_type": "code",
      "metadata": {
        "id": "xCRwX-siWCvG",
        "colab_type": "code",
        "colab": {}
      },
      "source": [
        ""
      ],
      "execution_count": null,
      "outputs": []
    }
  ]
}