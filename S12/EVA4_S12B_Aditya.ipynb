{
  "nbformat": 4,
  "nbformat_minor": 0,
  "metadata": {
    "colab": {
      "name": "EVA4_S12B_Aditya.ipynb",
      "provenance": [],
      "collapsed_sections": []
    },
    "kernelspec": {
      "name": "python3",
      "display_name": "Python 3"
    }
  },
  "cells": [
    {
      "cell_type": "code",
      "metadata": {
        "id": "2axqDzdLHE1i",
        "colab_type": "code",
        "colab": {
          "base_uri": "https://localhost:8080/",
          "height": 121
        },
        "outputId": "42610963-8c9c-4eb8-85a6-30dbcb3b5ab0"
      },
      "source": [
        "from google.colab import drive\n",
        "drive.mount('/content/gdrive/')"
      ],
      "execution_count": 1,
      "outputs": [
        {
          "output_type": "stream",
          "text": [
            "Go to this URL in a browser: https://accounts.google.com/o/oauth2/auth?client_id=947318989803-6bn6qk8qdgf4n4g3pfee6491hc0brc4i.apps.googleusercontent.com&redirect_uri=urn%3aietf%3awg%3aoauth%3a2.0%3aoob&response_type=code&scope=email%20https%3a%2f%2fwww.googleapis.com%2fauth%2fdocs.test%20https%3a%2f%2fwww.googleapis.com%2fauth%2fdrive%20https%3a%2f%2fwww.googleapis.com%2fauth%2fdrive.photos.readonly%20https%3a%2f%2fwww.googleapis.com%2fauth%2fpeopleapi.readonly\n",
            "\n",
            "Enter your authorization code:\n",
            "··········\n",
            "Mounted at /content/gdrive/\n"
          ],
          "name": "stdout"
        }
      ]
    },
    {
      "cell_type": "code",
      "metadata": {
        "id": "_JJYqHW8XGiH",
        "colab_type": "code",
        "colab": {}
      },
      "source": [
        "%matplotlib inline\n",
        "import json\n",
        "import numpy as np\n",
        "import pandas as pd\n",
        "from matplotlib import pyplot as plt\n",
        "from sklearn.cluster import KMeans"
      ],
      "execution_count": 2,
      "outputs": []
    },
    {
      "cell_type": "code",
      "metadata": {
        "id": "1jlUINpFt1U0",
        "colab_type": "code",
        "colab": {}
      },
      "source": [
        "import sys\n",
        "sys.path.append('/content/gdrive/My Drive/Colab Notebooks/EVA4/S12/')\n",
        "import os\n",
        "os.chdir('/content/gdrive/My Drive/Colab Notebooks/EVA4/S12/annotations')"
      ],
      "execution_count": 3,
      "outputs": []
    },
    {
      "cell_type": "code",
      "metadata": {
        "id": "6mWqUk2rJr7W",
        "colab_type": "code",
        "colab": {}
      },
      "source": [
        "# Loading json file\n",
        "with open('annotations_dogs.json') as f:\n",
        "  data = json.load(f)"
      ],
      "execution_count": 4,
      "outputs": []
    },
    {
      "cell_type": "code",
      "metadata": {
        "id": "-C_F-nm2Vq82",
        "colab_type": "code",
        "colab": {
          "base_uri": "https://localhost:8080/",
          "height": 319
        },
        "outputId": "179e7689-1351-40cf-ea75-25eeb57bd7ae"
      },
      "source": [
        "images = data['images']\n",
        "images[0:3]"
      ],
      "execution_count": 5,
      "outputs": [
        {
          "output_type": "execute_result",
          "data": {
            "text/plain": [
              "[{'date_captured': '',\n",
              "  'file_name': '1.jpg',\n",
              "  'height': 388,\n",
              "  'id': 0,\n",
              "  'license': 1,\n",
              "  'width': 386},\n",
              " {'date_captured': '',\n",
              "  'file_name': '75c0f6259ba49d729293b9544a067235.jpg',\n",
              "  'height': 426,\n",
              "  'id': 1,\n",
              "  'license': 1,\n",
              "  'width': 637},\n",
              " {'date_captured': '',\n",
              "  'file_name': '83-833982_lab-dog-images-download.jpg',\n",
              "  'height': 716,\n",
              "  'id': 2,\n",
              "  'license': 1,\n",
              "  'width': 1000}]"
            ]
          },
          "metadata": {
            "tags": []
          },
          "execution_count": 5
        }
      ]
    },
    {
      "cell_type": "code",
      "metadata": {
        "id": "hmBEx3PgVyGx",
        "colab_type": "code",
        "colab": {}
      },
      "source": [
        "# Creating empty dictionary to store images and annotations details\n",
        "img_dict = {}"
      ],
      "execution_count": 6,
      "outputs": []
    },
    {
      "cell_type": "code",
      "metadata": {
        "id": "CmsR3Ez5V19g",
        "colab_type": "code",
        "colab": {
          "base_uri": "https://localhost:8080/",
          "height": 34
        },
        "outputId": "a6d50c8d-8eca-44b7-976a-0974520ea9bc"
      },
      "source": [
        "# Storing values of images wrt id\n",
        "for img in images:\n",
        "  id = img['id']\n",
        "  img_dict[str(id)] = {'file_name': img['file_name'],'height' : img['height'], 'width' : img['width']}\n",
        "\n",
        "\n",
        "img_dict['0']"
      ],
      "execution_count": 7,
      "outputs": [
        {
          "output_type": "execute_result",
          "data": {
            "text/plain": [
              "{'file_name': '1.jpg', 'height': 388, 'width': 386}"
            ]
          },
          "metadata": {
            "tags": []
          },
          "execution_count": 7
        }
      ]
    },
    {
      "cell_type": "code",
      "metadata": {
        "id": "-M0wD3K1V2qt",
        "colab_type": "code",
        "colab": {
          "base_uri": "https://localhost:8080/",
          "height": 134
        },
        "outputId": "2ac1c494-3d89-4c2b-8954-c8dcbd853c24"
      },
      "source": [
        "annotations = data['annotations']\n",
        "annotations[0]"
      ],
      "execution_count": 8,
      "outputs": [
        {
          "output_type": "execute_result",
          "data": {
            "text/plain": [
              "{'area': 124166,\n",
              " 'bbox': [23, 4, 343, 362],\n",
              " 'category_id': 1,\n",
              " 'id': 0,\n",
              " 'image_id': '0',\n",
              " 'iscrowd': 0,\n",
              " 'segmentation': [23, 4, 366, 4, 366, 366, 23, 366]}"
            ]
          },
          "metadata": {
            "tags": []
          },
          "execution_count": 8
        }
      ]
    },
    {
      "cell_type": "code",
      "metadata": {
        "id": "Szp_ArjtWL3U",
        "colab_type": "code",
        "colab": {}
      },
      "source": [
        "# Creating an empty list which will be converted to dataframe\n",
        "annotate = []"
      ],
      "execution_count": 9,
      "outputs": []
    },
    {
      "cell_type": "code",
      "metadata": {
        "id": "sQ7O4kjTX07o",
        "colab_type": "code",
        "colab": {}
      },
      "source": [
        "a, b, c, d = [140, 47, 923, 1036]"
      ],
      "execution_count": 10,
      "outputs": []
    },
    {
      "cell_type": "code",
      "metadata": {
        "id": "sEWlUYUZWdId",
        "colab_type": "code",
        "colab": {}
      },
      "source": [
        "for ant in annotations:\n",
        "  id = ant['image_id']\n",
        "  img_height = img_dict[id]['height']\n",
        "  img_width = img_dict[id]['width']\n",
        "  img_name = img_dict[id]['file_name']\n",
        "  bb_x, bb_y, bb_width, bb_height = ant['bbox']\n",
        "  img_height_norm = img_height/img_height\n",
        "  img_width_norm = img_width/img_width\n",
        "  bb_x_norm = bb_x/img_width\n",
        "  bb_y_norm = bb_y/img_height\n",
        "  bb_width_norm = bb_width/img_width\n",
        "  bb_height_norm = bb_height/img_height\n",
        "  a = {'file_name':img_name, 'img_height':img_height, 'img_width':img_width, 'img_height_norm' : img_height_norm, 'img_width_norm' : img_width_norm,\n",
        "       'bb_x_norm' : bb_x_norm, 'bb_y_norm':bb_y_norm, 'bb_width_norm' : bb_width_norm, 'bb_height_norm' : bb_height_norm}\n",
        "  annotate.append(a)"
      ],
      "execution_count": 11,
      "outputs": []
    },
    {
      "cell_type": "code",
      "metadata": {
        "id": "ktArJIlzWgns",
        "colab_type": "code",
        "colab": {
          "base_uri": "https://localhost:8080/",
          "height": 136
        },
        "outputId": "e8756da4-29b2-4d64-8444-c7a563e72c36"
      },
      "source": [
        "df = pd.DataFrame(annotate)\n",
        "df.head(3)"
      ],
      "execution_count": 12,
      "outputs": [
        {
          "output_type": "execute_result",
          "data": {
            "text/html": [
              "<div>\n",
              "<style scoped>\n",
              "    .dataframe tbody tr th:only-of-type {\n",
              "        vertical-align: middle;\n",
              "    }\n",
              "\n",
              "    .dataframe tbody tr th {\n",
              "        vertical-align: top;\n",
              "    }\n",
              "\n",
              "    .dataframe thead th {\n",
              "        text-align: right;\n",
              "    }\n",
              "</style>\n",
              "<table border=\"1\" class=\"dataframe\">\n",
              "  <thead>\n",
              "    <tr style=\"text-align: right;\">\n",
              "      <th></th>\n",
              "      <th>file_name</th>\n",
              "      <th>img_height</th>\n",
              "      <th>img_width</th>\n",
              "      <th>img_height_norm</th>\n",
              "      <th>img_width_norm</th>\n",
              "      <th>bb_x_norm</th>\n",
              "      <th>bb_y_norm</th>\n",
              "      <th>bb_width_norm</th>\n",
              "      <th>bb_height_norm</th>\n",
              "    </tr>\n",
              "  </thead>\n",
              "  <tbody>\n",
              "    <tr>\n",
              "      <th>0</th>\n",
              "      <td>1.jpg</td>\n",
              "      <td>388</td>\n",
              "      <td>386</td>\n",
              "      <td>1.0</td>\n",
              "      <td>1.0</td>\n",
              "      <td>0.059585</td>\n",
              "      <td>0.010309</td>\n",
              "      <td>0.888601</td>\n",
              "      <td>0.932990</td>\n",
              "    </tr>\n",
              "    <tr>\n",
              "      <th>1</th>\n",
              "      <td>75c0f6259ba49d729293b9544a067235.jpg</td>\n",
              "      <td>426</td>\n",
              "      <td>637</td>\n",
              "      <td>1.0</td>\n",
              "      <td>1.0</td>\n",
              "      <td>0.202512</td>\n",
              "      <td>0.100939</td>\n",
              "      <td>0.646782</td>\n",
              "      <td>0.748826</td>\n",
              "    </tr>\n",
              "    <tr>\n",
              "      <th>2</th>\n",
              "      <td>83-833982_lab-dog-images-download.jpg</td>\n",
              "      <td>716</td>\n",
              "      <td>1000</td>\n",
              "      <td>1.0</td>\n",
              "      <td>1.0</td>\n",
              "      <td>0.195000</td>\n",
              "      <td>0.175978</td>\n",
              "      <td>0.711000</td>\n",
              "      <td>0.722067</td>\n",
              "    </tr>\n",
              "  </tbody>\n",
              "</table>\n",
              "</div>"
            ],
            "text/plain": [
              "                               file_name  ...  bb_height_norm\n",
              "0                                  1.jpg  ...        0.932990\n",
              "1   75c0f6259ba49d729293b9544a067235.jpg  ...        0.748826\n",
              "2  83-833982_lab-dog-images-download.jpg  ...        0.722067\n",
              "\n",
              "[3 rows x 9 columns]"
            ]
          },
          "metadata": {
            "tags": []
          },
          "execution_count": 12
        }
      ]
    },
    {
      "cell_type": "code",
      "metadata": {
        "id": "hVIrAtT9OsoG",
        "colab_type": "code",
        "colab": {
          "base_uri": "https://localhost:8080/",
          "height": 34
        },
        "outputId": "9b4ae96a-e228-4093-b435-cb0b1e4be41b"
      },
      "source": [
        "df.shape"
      ],
      "execution_count": 13,
      "outputs": [
        {
          "output_type": "execute_result",
          "data": {
            "text/plain": [
              "(50, 9)"
            ]
          },
          "metadata": {
            "tags": []
          },
          "execution_count": 13
        }
      ]
    },
    {
      "cell_type": "code",
      "metadata": {
        "id": "g_vH7mzCO09a",
        "colab_type": "code",
        "colab": {}
      },
      "source": [
        "df_updated = df[['file_name','bb_width_norm','bb_height_norm']]"
      ],
      "execution_count": 14,
      "outputs": []
    },
    {
      "cell_type": "markdown",
      "metadata": {
        "id": "WnjppjVYqVej",
        "colab_type": "text"
      },
      "source": [
        "### Visualise Bounding Boxes\n",
        "\n",
        "Visualise the scaled bounding boxes of all the images"
      ]
    },
    {
      "cell_type": "code",
      "metadata": {
        "id": "YjLBVyzTqSxm",
        "colab_type": "code",
        "colab": {
          "base_uri": "https://localhost:8080/",
          "height": 282
        },
        "outputId": "ab0f35ea-4936-4b8d-d0f2-93b7f45e417f"
      },
      "source": [
        "plt.scatter(x=df_updated['bb_width_norm'],y=df_updated['bb_height_norm'])"
      ],
      "execution_count": 15,
      "outputs": [
        {
          "output_type": "execute_result",
          "data": {
            "text/plain": [
              "<matplotlib.collections.PathCollection at 0x7f95f28092e8>"
            ]
          },
          "metadata": {
            "tags": []
          },
          "execution_count": 15
        },
        {
          "output_type": "display_data",
          "data": {
            "image/png": "[encoded data removed]",
            "text/plain": [
              "<Figure size 432x288 with 1 Axes>"
            ]
          },
          "metadata": {
            "tags": [],
            "needs_background": "light"
          }
        }
      ]
    },
    {
      "cell_type": "code",
      "metadata": {
        "id": "5Kt-JyeIPBRO",
        "colab_type": "code",
        "colab": {}
      },
      "source": [
        "# Removing the filename column and storing the rest as X for finding optimal number of clusters using k-means clustering\n",
        "X = df_updated[df_updated.columns[1:]]"
      ],
      "execution_count": 16,
      "outputs": []
    },
    {
      "cell_type": "markdown",
      "metadata": {
        "id": "eI6UZ8jaqgoq",
        "colab_type": "text"
      },
      "source": [
        "### Determine optimal number of clusters\n",
        "\n",
        "We find the optimal number of clusters using the elbow method using WCSS (inertia property)\n",
        "\n"
      ]
    },
    {
      "cell_type": "code",
      "metadata": {
        "id": "0fi4dySGdZV-",
        "colab_type": "code",
        "colab": {
          "base_uri": "https://localhost:8080/",
          "height": 295
        },
        "outputId": "9ff4d510-cd32-4489-cea6-24f1102e98d5"
      },
      "source": [
        "wcss = []\n",
        "for i in range(1, 11):\n",
        "    kmeans = KMeans(n_clusters=i, init='k-means++', max_iter=500, n_init=10, random_state=0)\n",
        "    kmeans.fit(X)\n",
        "    wcss.append(kmeans.inertia_)\n",
        "plt.plot(range(1, 11), wcss)\n",
        "plt.title('Elbow Method')\n",
        "plt.xlabel('Number of clusters')\n",
        "plt.ylabel('WCSS')\n",
        "plt.show()"
      ],
      "execution_count": 17,
      "outputs": [
        {
          "output_type": "display_data",
          "data": {
            "image/png": "[encoded data removed]",
            "text/plain": [
              "<Figure size 432x288 with 1 Axes>"
            ]
          },
          "metadata": {
            "tags": [],
            "needs_background": "light"
          }
        }
      ]
    },
    {
      "cell_type": "markdown",
      "metadata": {
        "id": "jtwHzOnePiqa",
        "colab_type": "text"
      },
      "source": [
        "From above we can see that the elbow in curve occurs at 5. So we take k=4."
      ]
    },
    {
      "cell_type": "code",
      "metadata": {
        "id": "ykKjPJFYPhdO",
        "colab_type": "code",
        "colab": {
          "base_uri": "https://localhost:8080/",
          "height": 265
        },
        "outputId": "561c2116-88ab-40e7-c1b3-77d7fede511e"
      },
      "source": [
        "kmeans = KMeans(n_clusters=4, init='k-means++', max_iter=500, n_init=10, random_state=0)\n",
        "pred_y = kmeans.fit_predict(X)\n",
        "plt.scatter(x=df_updated['bb_width_norm'],y=df_updated['bb_height_norm'])\n",
        "plt.scatter(kmeans.cluster_centers_[:, 0], kmeans.cluster_centers_[:, 1], s=100, c='green')\n",
        "plt.show()"
      ],
      "execution_count": 23,
      "outputs": [
        {
          "output_type": "display_data",
          "data": {
            "image/png": "[encoded data removed]",
            "text/plain": [
              "<Figure size 432x288 with 1 Axes>"
            ]
          },
          "metadata": {
            "tags": [],
            "needs_background": "light"
          }
        }
      ]
    }
  ]
}